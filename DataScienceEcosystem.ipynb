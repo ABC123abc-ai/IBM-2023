{
 "cells": [
  {
   "cell_type": "markdown",
   "id": "8cd8b978-7d38-450a-994b-995a72e6af38",
   "metadata": {},
   "source": [
    "# Data Science Tools and Ecosystem"
   ]
  },
  {
   "cell_type": "markdown",
   "id": "f5a39fe3-889a-4841-ad8f-3857933fd316",
   "metadata": {},
   "source": [
    "In this notebook, Data Science Tools and Ecosystem are summarized."
   ]
  },
  {
   "cell_type": "markdown",
   "id": "c8a7f846-eabc-45da-8f49-190790a40b98",
   "metadata": {},
   "source": [
    "Some of the popular languages that Data Scientists use are:\n",
    "1. Python\n",
    "2. R\n",
    "3. SQL\n",
    "4. Julia"
   ]
  },
  {
   "cell_type": "markdown",
   "id": "ced4167a-b581-4d80-a31f-94768bdbaa6d",
   "metadata": {},
   "source": [
    "Some of the commonly used libraries used by Data Scientists include:\n",
    "1. Pandas\n",
    "2. Numpy\n",
    "3. Scipy"
   ]
  },
  {
   "cell_type": "markdown",
   "id": "958a2231-c20e-40f2-84b9-5744dfa05f62",
   "metadata": {},
   "source": [
    "|Data Science Tools|\n",
    "|---|\n",
    "|Jupyter|\n",
    "|Rstudio|\n",
    "|Mysql Woorkbench|"
   ]
  },
  {
   "cell_type": "markdown",
   "id": "523c1c79-a587-48b3-b2f0-2dbaab036814",
   "metadata": {},
   "source": [
    "### Below are a few examples of evaluating arithmetic expressions in Python"
   ]
  },
  {
   "cell_type": "code",
   "execution_count": null,
   "id": "2471d2c1-270f-42e3-99a2-b3528fff4492",
   "metadata": {},
   "outputs": [],
   "source": [
    "#This a simple arithmetic expression to mutiply then add integers\n",
    "(3*4)+5"
   ]
  },
  {
   "cell_type": "code",
   "execution_count": null,
   "id": "fb0cc0a6-1b73-4870-b685-fb03cd0cb37d",
   "metadata": {},
   "outputs": [],
   "source": [
    "17"
   ]
  },
  {
   "cell_type": "code",
   "execution_count": 1,
   "id": "facbdc23-5d74-4d76-85f6-4295068d35a1",
   "metadata": {
    "scrolled": true
   },
   "outputs": [
    {
     "data": {
      "text/plain": [
       "3.3333333333333335"
      ]
     },
     "execution_count": 1,
     "metadata": {},
     "output_type": "execute_result"
    }
   ],
   "source": [
    "#This will convert 200 minutes to hours by diving by 60\n",
    "200/60"
   ]
  },
  {
   "cell_type": "markdown",
   "id": "097c5b1e-190f-4f0e-851c-f8db90bb5b0d",
   "metadata": {
    "scrolled": true
   },
   "source": [
    "**Objectives:**\n",
    "* List popular languages for Data Science\n",
    "* List libraries for Data Science\n",
    "* List Tools for Data Science"
   ]
  },
  {
   "cell_type": "markdown",
   "id": "4ec489f9-ba86-4c84-ac42-7277db7953f0",
   "metadata": {},
   "source": [
    "## Author\n",
    "jinsong Tian"
   ]
  },
  {
   "cell_type": "code",
   "execution_count": null,
   "id": "f0f559f2-097e-4243-8608-d2cfe3fbe579",
   "metadata": {},
   "outputs": [],
   "source": []
  }
 ],
 "metadata": {
  "kernelspec": {
   "display_name": "Python 3 (ipykernel)",
   "language": "python",
   "name": "python3"
  },
  "language_info": {
   "codemirror_mode": {
    "name": "ipython",
    "version": 3
   },
   "file_extension": ".py",
   "mimetype": "text/x-python",
   "name": "python",
   "nbconvert_exporter": "python",
   "pygments_lexer": "ipython3",
   "version": "3.11.7"
  }
 },
 "nbformat": 4,
 "nbformat_minor": 5
}
